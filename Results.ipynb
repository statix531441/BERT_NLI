{
 "cells": [
  {
   "cell_type": "code",
   "execution_count": null,
   "metadata": {},
   "outputs": [],
   "source": [
    "import os\n",
    "import pandas as pd\n",
    "import matplotlib.pyplot as plt\n",
    "plt.style.use('dark_background')\n",
    "from sklearn.metrics import ConfusionMatrixDisplay, classification_report\n",
    "\n",
    "import torch\n",
    "import torch.nn as nn\n",
    "import torch.functional as F\n",
    "\n",
    "from options import Options\n",
    "from models import *\n",
    "from dataset import *\n",
    "from utils import *\n",
    "\n",
    "device = 'cuda:1' if torch.cuda.is_available() else 'cpu'"
   ]
  },
  {
   "cell_type": "code",
   "execution_count": null,
   "metadata": {},
   "outputs": [],
   "source": [
    "print(os.listdir('models'))\n",
    "# Change this\n",
    "model_folder = f\"models/BERTCombinedModel_finetune/\""
   ]
  },
  {
   "cell_type": "code",
   "execution_count": null,
   "metadata": {},
   "outputs": [],
   "source": [
    "opt = Options()\n",
    "opt.load_options(model_folder)\n",
    "\n",
    "state = torch.load(f\"{model_folder}/latest.pth\", map_location=torch.device('cpu'))\n",
    "history = torch.load(f\"{model_folder}/history.pth\")\n",
    "\n",
    "Dataset = Datasets[opt.dataset]\n",
    "model = Models[opt.model](opt).to(device)\n",
    "\n",
    "test_df = pd.read_csv(f\"{opt.data_folder}/test.csv\")\n",
    "test_set = Dataset(test_df, opt)\n",
    "test_loader = DataLoader(test_set, batch_size=30, shuffle=True)\n",
    "\n",
    "model.load_state_dict(state['state_dict'],)"
   ]
  },
  {
   "cell_type": "code",
   "execution_count": null,
   "metadata": {},
   "outputs": [],
   "source": [
    "# model = model.to(device)\n",
    "fig, axs = plt.subplots(len(history),1,figsize=(10,10))\n",
    "test_best = state['epoch']\n",
    "\n",
    "for i, key in enumerate(history.keys()):\n",
    "    ax = axs[i]\n",
    "    ax.set_title(key)\n",
    "\n",
    "    ax.plot(history[key])\n",
    "    ax.axvline(test_best, color='red')"
   ]
  },
  {
   "cell_type": "code",
   "execution_count": null,
   "metadata": {},
   "outputs": [],
   "source": [
    "# Confusion matrix and accuracies\n",
    "y_pred, y_test, test_accuracy = predict(model, test_loader)\n",
    "print(test_accuracy)"
   ]
  },
  {
   "cell_type": "code",
   "execution_count": null,
   "metadata": {},
   "outputs": [],
   "source": [
    "y_pred, y_test = torch.tensor(y_pred).detach().numpy(), torch.tensor(y_test).detach().numpy()"
   ]
  },
  {
   "cell_type": "code",
   "execution_count": null,
   "metadata": {},
   "outputs": [],
   "source": [
    "# Succ\n",
    "test_df[y_pred==y_test]"
   ]
  },
  {
   "cell_type": "code",
   "execution_count": null,
   "metadata": {},
   "outputs": [],
   "source": [
    "# Fails\n",
    "test_df[y_pred!=y_test]"
   ]
  },
  {
   "cell_type": "code",
   "execution_count": null,
   "metadata": {},
   "outputs": [],
   "source": [
    "ConfusionMatrixDisplay.from_predictions(y_test, y_pred)\n",
    "plt.xticks(rotation = 45)\n",
    "plt.title(f\"{model_folder.split('/')[1]}\")\n",
    "print(classification_report(y_test, y_pred))"
   ]
  }
 ],
 "metadata": {
  "kernelspec": {
   "display_name": "Python 3 (ipykernel)",
   "language": "python",
   "name": "python3"
  },
  "language_info": {
   "codemirror_mode": {
    "name": "ipython",
    "version": 3
   },
   "file_extension": ".py",
   "mimetype": "text/x-python",
   "name": "python",
   "nbconvert_exporter": "python",
   "pygments_lexer": "ipython3",
   "version": "3.11.5"
  }
 },
 "nbformat": 4,
 "nbformat_minor": 2
}
